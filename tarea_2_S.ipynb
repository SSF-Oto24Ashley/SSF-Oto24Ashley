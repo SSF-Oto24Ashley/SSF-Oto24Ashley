{
  "nbformat": 4,
  "nbformat_minor": 0,
  "metadata": {
    "colab": {
      "provenance": []
    },
    "kernelspec": {
      "name": "python3",
      "display_name": "Python 3"
    },
    "language_info": {
      "name": "python"
    }
  },
  "cells": [
    {
      "cell_type": "markdown",
      "source": [
        "Primer ejercicio, metodo trapecio para 6 y 15\n"
      ],
      "metadata": {
        "id": "oaNiUMkU0q0e"
      }
    },
    {
      "cell_type": "code",
      "source": [
        "import math\n",
        "\n",
        "def f(x):\n",
        "    return 1 / (math.sqrt(2 * math.pi) * math.exp((x ** 2) / 2))\n",
        "\n",
        "n = 6\n",
        "a = -1\n",
        "b = 1\n",
        "h = (b - a) / n\n",
        "area = 0\n",
        "x = a\n",
        "for _ in range(n):\n",
        "    t = (f(x) + f(x + h)) * h / 2\n",
        "    area += t\n",
        "    x += h\n",
        "\n",
        "print(\"El área aproximada es:\", area)"
      ],
      "metadata": {
        "colab": {
          "base_uri": "https://localhost:8080/"
        },
        "id": "zhWm5YFN0tod",
        "outputId": "7fd0d88c-c79b-49e0-91e8-862db5e0023b"
      },
      "execution_count": null,
      "outputs": [
        {
          "output_type": "stream",
          "name": "stdout",
          "text": [
            "El área aproximada es: 0.6781918237837556\n"
          ]
        }
      ]
    },
    {
      "cell_type": "code",
      "source": [
        "import math\n",
        "\n",
        "def f(x):\n",
        "    return 1 / (math.sqrt(2 * math.pi) * math.exp((x ** 2) / 2))\n",
        "\n",
        "n = 15\n",
        "a = -1\n",
        "b = 1\n",
        "h = (b - a) / n\n",
        "area = 0\n",
        "x = a\n",
        "for _ in range(n):\n",
        "    t = (f(x) + f(x + h)) * h / 2\n",
        "    area += t\n",
        "    x += h\n",
        "\n",
        "print(\"El área aproximada es:\", area)\n"
      ],
      "metadata": {
        "colab": {
          "base_uri": "https://localhost:8080/"
        },
        "id": "hrUUqw9e002V",
        "outputId": "c22e4da9-2c20-45db-83ef-f646cf492d37"
      },
      "execution_count": null,
      "outputs": [
        {
          "output_type": "stream",
          "name": "stdout",
          "text": [
            "El área aproximada es: 0.6819721164424768\n"
          ]
        }
      ]
    },
    {
      "cell_type": "markdown",
      "source": [
        "Primer ejercicio, metodo simpson para 6 y 15"
      ],
      "metadata": {
        "id": "fhl_rVXI033t"
      }
    },
    {
      "cell_type": "code",
      "source": [
        "import math\n",
        "\n",
        "def f(x):\n",
        "    return 1 / (math.sqrt(2 * math.pi) * math.exp((x ** 2) / 2))\n",
        "\n",
        "def simpson(func, a, b):\n",
        "    m = (a + b) / 2\n",
        "    return (b - a) / 6 * (func(a) + 4 * func(m) + func(b))\n",
        "\n",
        "a = -1\n",
        "b = 1\n",
        "n = 6\n",
        "h = (b - a) / n\n",
        "area = 0\n",
        "x = a\n",
        "for _ in range(n):\n",
        "    area += simpson(f, x, x + h)\n",
        "    x += h\n",
        "\n",
        "print(\"El área aproximada es:\", area)\n"
      ],
      "metadata": {
        "colab": {
          "base_uri": "https://localhost:8080/"
        },
        "id": "2nZyfoUn0422",
        "outputId": "f862547d-009e-4fa7-da68-b3caa644b31d"
      },
      "execution_count": null,
      "outputs": [
        {
          "output_type": "stream",
          "name": "stdout",
          "text": [
            "El área aproximada es: 0.6826936827174928\n"
          ]
        }
      ]
    },
    {
      "cell_type": "code",
      "source": [
        "import math\n",
        "\n",
        "def f(x):\n",
        "    return 1 / (math.sqrt(2 * math.pi) * math.exp((x ** 2) / 2))\n",
        "\n",
        "def simpson(func, a, b):\n",
        "    m = (a + b) / 2\n",
        "    return (b - a) / 6 * (func(a) + 4 * func(m) + func(b))\n",
        "\n",
        "a = -1\n",
        "b = 1\n",
        "n = 15\n",
        "h = (b - a) / n\n",
        "area = 0\n",
        "x = a\n",
        "for _ in range(n):\n",
        "    area += simpson(f, x, x + h)\n",
        "    x += h\n",
        "\n",
        "print(\"El área aproximada es:\", area)\n"
      ],
      "metadata": {
        "colab": {
          "base_uri": "https://localhost:8080/"
        },
        "id": "PMcMdWNd09o9",
        "outputId": "16d2a986-a924-47cf-fafa-f46789ed389d"
      },
      "execution_count": null,
      "outputs": [
        {
          "output_type": "stream",
          "name": "stdout",
          "text": [
            "El área aproximada es: 0.6826895985208019\n"
          ]
        }
      ]
    },
    {
      "cell_type": "markdown",
      "source": [
        "Segundo ejercicio, metodo trapecio para 6, 15 y 20"
      ],
      "metadata": {
        "id": "ekOyGLgJ1AQl"
      }
    },
    {
      "cell_type": "code",
      "source": [
        "import math\n",
        "\n",
        "def f(x):\n",
        "    return (math.exp(x) ** 2 * math.sin(x)) / (1 + x ** 2)\n",
        "\n",
        "n = 6\n",
        "a = 0\n",
        "b = 3\n",
        "h = (b - a) / n\n",
        "area = 0\n",
        "x = a\n",
        "for _ in range(n):\n",
        "    t = (f(x) + f(x + h)) * h / 2\n",
        "    area += t\n",
        "    x += h\n",
        "\n",
        "print(\"El área aproximada es:\", area)\n"
      ],
      "metadata": {
        "colab": {
          "base_uri": "https://localhost:8080/"
        },
        "id": "O1LMadXM1BM2",
        "outputId": "e28c054a-6414-4c32-e253-5081d91f8756"
      },
      "execution_count": null,
      "outputs": [
        {
          "output_type": "stream",
          "name": "stdout",
          "text": [
            "El área aproximada es: 17.671535041777297\n"
          ]
        }
      ]
    },
    {
      "cell_type": "code",
      "source": [
        "import math\n",
        "\n",
        "def f(x):\n",
        "    return (math.exp(x) ** 2 * math.sin(x)) / (1 + x ** 2)\n",
        "\n",
        "n = 15\n",
        "a = 0\n",
        "b = 3\n",
        "h = (b - a) / n\n",
        "area = 0\n",
        "x = a\n",
        "for _ in range(n):\n",
        "    t = (f(x) + f(x + h)) * h / 2\n",
        "    area += t\n",
        "    x += h\n",
        "\n",
        "print(\"El área aproximada es:\", area)\n"
      ],
      "metadata": {
        "colab": {
          "base_uri": "https://localhost:8080/"
        },
        "id": "0QGF3S7I1Dge",
        "outputId": "eec4e70c-bc78-4cff-a80b-c8b979b275c9"
      },
      "execution_count": null,
      "outputs": [
        {
          "output_type": "stream",
          "name": "stdout",
          "text": [
            "El área aproximada es: 18.229710275629373\n"
          ]
        }
      ]
    },
    {
      "cell_type": "code",
      "source": [
        "import math\n",
        "\n",
        "def f(x):\n",
        "    return (math.exp(x) ** 2 * math.sin(x)) / (1 + x ** 2)\n",
        "\n",
        "n = 20\n",
        "a = 0\n",
        "b = 3\n",
        "h = (b - a) / n\n",
        "area = 0\n",
        "x = a\n",
        "for _ in range(n):\n",
        "    t = (f(x) + f(x + h)) * h / 2\n",
        "    area += t\n",
        "    x += h\n",
        "\n",
        "print(\"El área aproximada es:\", area)\n"
      ],
      "metadata": {
        "colab": {
          "base_uri": "https://localhost:8080/"
        },
        "id": "YVAclcZn1F4F",
        "outputId": "24763c23-6908-4265-8c39-db989b2788d3"
      },
      "execution_count": null,
      "outputs": [
        {
          "output_type": "stream",
          "name": "stdout",
          "text": [
            "El área aproximada es: 18.2774499612085\n"
          ]
        }
      ]
    },
    {
      "cell_type": "markdown",
      "source": [
        "Segundo ejercicio, metodo simpson para 6, 15 y 20"
      ],
      "metadata": {
        "id": "soLFWAsl1JSF"
      }
    },
    {
      "cell_type": "code",
      "source": [
        "import math\n",
        "\n",
        "def f(x):\n",
        "    return (math.exp(x) ** 2 * math.sin(x)) / (1 + x ** 2)\n",
        "\n",
        "def simpson(func, a, b):\n",
        "    m = (a + b) / 2\n",
        "    return (b - a) / 6 * (func(a) + 4 * func(m) + func(b))\n",
        "\n",
        "a = 0\n",
        "b = 3\n",
        "n = 6\n",
        "h = (b - a) / n\n",
        "area = 0\n",
        "x = a\n",
        "for _ in range(n):\n",
        "    area += simpson(f, x, x + h)\n",
        "    x += h\n",
        "\n",
        "print(\"El área aproximada es:\", area)\n"
      ],
      "metadata": {
        "colab": {
          "base_uri": "https://localhost:8080/"
        },
        "id": "Q7mczQpO1MKl",
        "outputId": "1574b675-e4bf-4579-bb1a-6d08b706a54d"
      },
      "execution_count": null,
      "outputs": [
        {
          "output_type": "stream",
          "name": "stdout",
          "text": [
            "El área aproximada es: 18.334300912085787\n"
          ]
        }
      ]
    },
    {
      "cell_type": "code",
      "source": [
        "import math\n",
        "\n",
        "def f(x):\n",
        "    return (math.exp(x) ** 2 * math.sin(x)) / (1 + x ** 2)\n",
        "\n",
        "def simpson(func, a, b):\n",
        "    m = (a + b) / 2\n",
        "    return (b - a) / 6 * (func(a) + 4 * func(m) + func(b))\n",
        "\n",
        "a = 0\n",
        "b = 3\n",
        "n = 15\n",
        "h = (b - a) / n\n",
        "area = 0\n",
        "x = a\n",
        "for _ in range(n):\n",
        "    area += simpson(f, x, x + h)\n",
        "    x += h\n",
        "\n",
        "print(\"El área aproximada es:\", area)\n"
      ],
      "metadata": {
        "colab": {
          "base_uri": "https://localhost:8080/"
        },
        "id": "HFGjr0yo1PHt",
        "outputId": "f1b67a4f-68b4-4090-8965-eea18b082082"
      },
      "execution_count": null,
      "outputs": [
        {
          "output_type": "stream",
          "name": "stdout",
          "text": [
            "El área aproximada es: 18.338984697036814\n"
          ]
        }
      ]
    },
    {
      "cell_type": "code",
      "source": [
        "import math\n",
        "\n",
        "def f(x):\n",
        "    return (math.exp(x) ** 2 * math.sin(x)) / (1 + x ** 2)\n",
        "\n",
        "def simpson(func, a, b):\n",
        "    m = (a + b) / 2\n",
        "    return (b - a) / 6 * (func(a) + 4 * func(m) + func(b))\n",
        "\n",
        "a = 0\n",
        "b = 3\n",
        "n = 20\n",
        "h = (b - a) / n\n",
        "area = 0\n",
        "x = a\n",
        "for _ in range(n):\n",
        "    area += simpson(f, x, x + h)\n",
        "    x += h\n",
        "\n",
        "print(\"El área aproximada es:\", area)\n"
      ],
      "metadata": {
        "colab": {
          "base_uri": "https://localhost:8080/"
        },
        "id": "48Z0HW731TyV",
        "outputId": "2abae000-2b5e-435f-e73f-4e4ab276d16c"
      },
      "execution_count": null,
      "outputs": [
        {
          "output_type": "stream",
          "name": "stdout",
          "text": [
            "El área aproximada es: 18.339069574514035\n"
          ]
        }
      ]
    },
    {
      "cell_type": "markdown",
      "source": [
        "Tercer ejercicio, metodo trapecio para 6, 15 y 20 con limites modificados"
      ],
      "metadata": {
        "id": "kNedITKa1XP1"
      }
    },
    {
      "cell_type": "code",
      "source": [
        "import math\n",
        "\n",
        "def f(x):\n",
        "    return (math.exp(x)**2 * math.sin(x)) / (1 + x**2)\n",
        "\n",
        "n = 6\n",
        "a = -2\n",
        "b = 0\n",
        "h = (b - a) / n\n",
        "area = 0\n",
        "x = a\n",
        "for _ in range(n):\n",
        "    t = (f(x) + f(x + h)) * h / 2\n",
        "    area += t\n",
        "    x += h\n",
        "\n",
        "print(\"El área aproximada es:\", area)\n"
      ],
      "metadata": {
        "colab": {
          "base_uri": "https://localhost:8080/"
        },
        "id": "pXdohZO51Zll",
        "outputId": "b1ca6ebb-d77d-4f39-b65c-af1b1082159c"
      },
      "execution_count": null,
      "outputs": [
        {
          "output_type": "stream",
          "name": "stdout",
          "text": [
            "El área aproximada es: -0.11878425729982989\n"
          ]
        }
      ]
    },
    {
      "cell_type": "code",
      "source": [
        "import math\n",
        "\n",
        "def f(x):\n",
        "    return (math.exp(x)**2 * math.sin(x)) / (1 + x**2)\n",
        "\n",
        "n = 15\n",
        "a = -2\n",
        "b = 0\n",
        "h = (b - a) / n\n",
        "area = 0\n",
        "x = a\n",
        "for _ in range(n):\n",
        "    t = (f(x) + f(x + h)) * h / 2\n",
        "    area += t\n",
        "    x += h\n",
        "\n",
        "print(\"El área aproximada es:\", area)\n"
      ],
      "metadata": {
        "colab": {
          "base_uri": "https://localhost:8080/"
        },
        "id": "aXBbS0CE1dT8",
        "outputId": "ac5c211b-278c-4e98-811a-f678c1820ec1"
      },
      "execution_count": null,
      "outputs": [
        {
          "output_type": "stream",
          "name": "stdout",
          "text": [
            "El área aproximada es: -0.12655835486610015\n"
          ]
        }
      ]
    },
    {
      "cell_type": "code",
      "source": [
        "import math\n",
        "\n",
        "def f(x):\n",
        "    return (math.exp(x)**2 * math.sin(x)) / (1 + x**2)\n",
        "\n",
        "n = 20\n",
        "a = -2\n",
        "b = 0\n",
        "h = (b - a) / n\n",
        "area = 0\n",
        "x = a\n",
        "for _ in range(n):\n",
        "    t = (f(x) + f(x + h)) * h / 2\n",
        "    area += t\n",
        "    x += h\n",
        "\n",
        "print(\"El área aproximada es:\", area)\n"
      ],
      "metadata": {
        "colab": {
          "base_uri": "https://localhost:8080/"
        },
        "id": "uRIdUgBe1i31",
        "outputId": "441fe703-c031-4332-a21d-d3926ad4abe5"
      },
      "execution_count": null,
      "outputs": [
        {
          "output_type": "stream",
          "name": "stdout",
          "text": [
            "El área aproximada es: -0.12721200023934953\n"
          ]
        }
      ]
    },
    {
      "cell_type": "markdown",
      "source": [
        "Tercer ejercicio, metodo simpson para 6, 15 y 20 con limites modificados\n",
        "\n",
        "\n",
        "[ ]\n"
      ],
      "metadata": {
        "id": "1Ac8BkPF1lns"
      }
    },
    {
      "cell_type": "code",
      "source": [
        "import math\n",
        "\n",
        "def f(x):\n",
        "    return (math.exp(x)**2 * math.sin(x)) / (1 + x**2)\n",
        "\n",
        "n = 6\n",
        "a = -2\n",
        "b = 0\n",
        "h = (b - a) / n\n",
        "area = 0\n",
        "x = a\n",
        "for _ in range(n):\n",
        "    area += (f(x) + f(x + h)) * h / 2\n",
        "    x += h\n",
        "\n",
        "print(\"El área es:\", area)\n",
        "\n",
        "\n"
      ],
      "metadata": {
        "colab": {
          "base_uri": "https://localhost:8080/"
        },
        "id": "rYuK2F7c1mcl",
        "outputId": "9804b3d3-dc97-4a74-ecb2-840c0c090a36"
      },
      "execution_count": null,
      "outputs": [
        {
          "output_type": "stream",
          "name": "stdout",
          "text": [
            "El área es: -0.11878425729982989\n"
          ]
        }
      ]
    },
    {
      "cell_type": "code",
      "source": [
        "import math\n",
        "\n",
        "def f(x):\n",
        "    return (math.exp(x)**2 * math.sin(x)) / (1 + x**2)\n",
        "\n",
        "n = 15\n",
        "a = -2\n",
        "b = 0\n",
        "h = (b - a) / n\n",
        "area = 0\n",
        "x = a\n",
        "for _ in range(n):\n",
        "    area += (f(x) + f(x + h)) * h / 2\n",
        "    x += h\n",
        "\n",
        "print(\"El área es:\", area)\n"
      ],
      "metadata": {
        "colab": {
          "base_uri": "https://localhost:8080/"
        },
        "id": "CGwGW9YK1oqd",
        "outputId": "f8a2511f-c0f2-4310-9166-61a83dff3d57"
      },
      "execution_count": null,
      "outputs": [
        {
          "output_type": "stream",
          "name": "stdout",
          "text": [
            "El área es: -0.12655835486610015\n"
          ]
        }
      ]
    },
    {
      "cell_type": "code",
      "source": [
        "import math\n",
        "\n",
        "def f(x):\n",
        "    return (math.exp(x)**2 * math.sin(x)) / (1 + x**2)\n",
        "\n",
        "n = 20\n",
        "a = -2\n",
        "b = 0\n",
        "h = (b - a) / n\n",
        "area = 0\n",
        "x = a\n",
        "for _ in range(n):\n",
        "    area += (f(x) + f(x + h)) * h / 2\n",
        "    x += h\n",
        "\n",
        "print(\"El área es:\", area)\n"
      ],
      "metadata": {
        "colab": {
          "base_uri": "https://localhost:8080/"
        },
        "id": "9F1EOqj41u4F",
        "outputId": "94f21e20-ab40-44e2-9434-32cd44c90712"
      },
      "execution_count": null,
      "outputs": [
        {
          "output_type": "stream",
          "name": "stdout",
          "text": [
            "El área es: -0.12721200023934953\n"
          ]
        }
      ]
    },
    {
      "cell_type": "markdown",
      "source": [
        "Cuarto ejercicio, metodo trapecio para 10 y 18\n",
        "\n"
      ],
      "metadata": {
        "id": "LDDjif0J1xg8"
      }
    },
    {
      "cell_type": "code",
      "source": [
        "import math\n",
        "\n",
        "def f(x):\n",
        "    return math.exp(x) / x\n",
        "\n",
        "n = 10\n",
        "a = 0.000000000001\n",
        "b = 5\n",
        "h = (b - a) / n\n",
        "area = 0\n",
        "x = a\n",
        "for _ in range(n):\n",
        "    area += (f(x) + f(x + h)) * h / 2\n",
        "    x += h\n",
        "\n",
        "print(\"El área aproximada es:\", area)\n"
      ],
      "metadata": {
        "colab": {
          "base_uri": "https://localhost:8080/"
        },
        "id": "TNKx608A119l",
        "outputId": "f5758be5-df5c-4332-e494-91e6201b3712"
      },
      "execution_count": null,
      "outputs": [
        {
          "output_type": "stream",
          "name": "stdout",
          "text": [
            "El área aproximada es: 250000000041.31125\n"
          ]
        }
      ]
    },
    {
      "cell_type": "code",
      "source": [
        "import math\n",
        "\n",
        "def f(x):\n",
        "    return math.exp(x) / x\n",
        "\n",
        "n = 18\n",
        "a = 0.000000000001\n",
        "b = 5\n",
        "h = (b - a) / n\n",
        "area = 0\n",
        "x = a\n",
        "for _ in range(n):\n",
        "    area += (f(x) + f(x + h)) * h / 2\n",
        "    x += h\n",
        "\n",
        "print(\"El área aproximada es:\", area)\n"
      ],
      "metadata": {
        "colab": {
          "base_uri": "https://localhost:8080/"
        },
        "id": "_5VqayRw17AU",
        "outputId": "d872c779-e3dd-43e7-fb83-626f9ed1d330"
      },
      "execution_count": null,
      "outputs": [
        {
          "output_type": "stream",
          "name": "stdout",
          "text": [
            "El área aproximada es: 138888888930.47668\n"
          ]
        }
      ]
    }
  ]
}