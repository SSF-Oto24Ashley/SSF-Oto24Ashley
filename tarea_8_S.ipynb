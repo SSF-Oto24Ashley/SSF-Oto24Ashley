{
  "nbformat": 4,
  "nbformat_minor": 0,
  "metadata": {
    "colab": {
      "provenance": []
    },
    "kernelspec": {
      "name": "python3",
      "display_name": "Python 3"
    },
    "language_info": {
      "name": "python"
    }
  },
  "cells": [
    {
      "cell_type": "code",
      "execution_count": null,
      "metadata": {
        "colab": {
          "base_uri": "https://localhost:8080/"
        },
        "id": "tqbeu03uGhxv",
        "outputId": "cd41fb4f-c74f-4590-816c-10c580eba641"
      },
      "outputs": [
        {
          "output_type": "stream",
          "name": "stdout",
          "text": [
            "La probabilidad de seleccionar 3 mujeres de un grupo de 40 es: 0.0085\n",
            "\n",
            "Curso 1:\n",
            "Promedio: 7.43\n",
            "Varianza: 2.77\n",
            "\n",
            "Curso 2:\n",
            "Promedio: 7.57\n",
            "Varianza: 3.51\n",
            "\n",
            "Curso 3:\n",
            "Promedio: 7.70\n",
            "Varianza: 2.83\n",
            "\n",
            "Curso 4:\n",
            "Promedio: 7.74\n",
            "Varianza: 2.61\n",
            "\n",
            "Curso 5:\n",
            "Promedio: 7.52\n",
            "Varianza: 2.79\n",
            "\n",
            "Curso 6:\n",
            "Promedio: 7.62\n",
            "Varianza: 3.24\n",
            "\n",
            "Curso 7:\n",
            "Promedio: 7.30\n",
            "Varianza: 3.49\n",
            "\n",
            "Curso 8:\n",
            "Promedio: 7.77\n",
            "Varianza: 3.16\n",
            "\n",
            "Curso 9:\n",
            "Promedio: 7.41\n",
            "Varianza: 3.28\n",
            "\n",
            "Curso 10:\n",
            "Promedio: 7.44\n",
            "Varianza: 2.73\n",
            "\n",
            "Curso 11:\n",
            "Promedio: 7.35\n",
            "Varianza: 2.95\n"
          ]
        }
      ],
      "source": [
        "import random\n",
        "\n",
        "def probabilidad_mujeres(total_alumnos, num_mujeres, num_seleccionados):\n",
        "    probabilidad = 1.0\n",
        "    for i in range(num_seleccionados):\n",
        "        probabilidad *= (num_mujeres - i) / (total_alumnos - i)\n",
        "    return probabilidad\n",
        "\n",
        "total_alumnos = 40\n",
        "num_mujeres = 9\n",
        "num_seleccionados = 3\n",
        "\n",
        "probabilidad = probabilidad_mujeres(total_alumnos, num_mujeres, num_seleccionados)\n",
        "print(f\"La probabilidad de seleccionar 3 mujeres de un grupo de {total_alumnos} es: {probabilidad:.4f}\")\n",
        "\n",
        "def calificaciones_aleatorias(num_alumnos):\n",
        "    calificaciones = [random.randint(5, 10) for _ in range(num_alumnos)]\n",
        "    return calificaciones\n",
        "\n",
        "def calcular_estadisticas(calificaciones):\n",
        "    promedio = sum(calificaciones) / len(calificaciones)\n",
        "    varianza = sum([(x - promedio) ** 2 for x in calificaciones]) / len(calificaciones)\n",
        "    return promedio, varianza\n",
        "\n",
        "num_alumnos = 100\n",
        "calificaciones = calificaciones_aleatorias(num_alumnos)\n",
        "promedio, varianza = calcular_estadisticas(calificaciones)\n",
        "print(f\"\\nCurso 1:\\nPromedio: {promedio:.2f}\\nVarianza: {varianza:.2f}\")\n",
        "\n",
        "for i in range(10):\n",
        "    calificaciones = calificaciones_aleatorias(num_alumnos)\n",
        "    promedio, varianza = calcular_estadisticas(calificaciones)\n",
        "    print(f\"\\nCurso {i+2}:\\nPromedio: {promedio:.2f}\\nVarianza: {varianza:.2f}\")"
      ]
    }
  ]
}